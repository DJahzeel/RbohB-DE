{
 "cells": [
  {
   "cell_type": "code",
   "execution_count": 1,
   "id": "258c3c74",
   "metadata": {},
   "outputs": [],
   "source": [
    "# ====== Exploración de datos en NCBI con Biopython =========\n",
    "# Carga de bibliotecas\n",
    "from Bio import Entrez # Permite conectarse con las bases de datos de NCBI ,explorar y descargar información sobre proyectos, muestras y datos de secuenciación.\n",
    "import pandas as pd\n",
    "from io import StringIO\n",
    "import subprocess\n",
    "import os\n",
    "\n",
    "Entrez.email = \"darapc@chaac.lcg.unam.mx\""
   ]
  },
  {
   "cell_type": "code",
   "execution_count": 2,
   "id": "1ac59091",
   "metadata": {},
   "outputs": [
    {
     "name": "stdout",
     "output_type": "stream",
     "text": [
      "{'Count': '1', 'RetMax': '1', 'RetStart': '0', 'IdList': ['482464'], 'TranslationSet': [], 'TranslationStack': [{'Term': 'PRJNA482464[All Fields]', 'Field': 'All Fields', 'Count': '1', 'Explode': 'N'}, 'GROUP'], 'QueryTranslation': 'PRJNA482464[All Fields]'}\n"
     ]
    }
   ],
   "source": [
    "# Obtener el UID de un BioProject\n",
    "# Resumen del BioProject\n",
    "project_acc = \"PRJNA482464\"\n",
    "handle = Entrez.esearch(db=\"bioproject\", term=project_acc)\n",
    "search_results = Entrez.read(handle)\n",
    "print(search_results)\n",
    "handle.close()"
   ]
  },
  {
   "cell_type": "code",
   "execution_count": 3,
   "id": "f1698cde",
   "metadata": {},
   "outputs": [
    {
     "name": "stdout",
     "output_type": "stream",
     "text": [
      "UID del BioProject: 482464\n"
     ]
    }
   ],
   "source": [
    "# Extraer solo el UID\n",
    "project_uid = search_results[\"IdList\"][0]\n",
    "print(\"UID del BioProject:\", project_uid)"
   ]
  },
  {
   "cell_type": "code",
   "execution_count": 4,
   "id": "b62dd150",
   "metadata": {},
   "outputs": [
    {
     "name": "stdout",
     "output_type": "stream",
     "text": [
      "{'DocumentSummarySet': DictElement({'DocumentSummary': [DictElement({'TaxId': '3885', 'Project_Id': '482464', 'Project_Acc': 'PRJNA482464', 'Project_Type': 'Primary submission', 'Project_Data_Type': 'Raw sequence reads', 'Sort_By_ProjectType': '626794', 'Sort_By_DataType': '616470', 'Sort_By_Organism': '504137', 'Project_Subtype': '', 'Project_Target_Scope': 'Multiisolate', 'Project_Target_Material': 'Genome', 'Project_Target_Capture': 'Whole', 'Project_MethodType': 'Sequencing', 'Project_Method': '', 'Project_Objectives_List': [{'Project_ObjectivesType': 'Raw Sequence Reads', 'Project_Objectives': ''}], 'Registration_Date': '2018/07/23 00:00', 'Project_Name': 'Phaseolus vulgaris strain:Rhizobium tropici and Rhizophagus irregularis', 'Project_Title': 'Phaseolus vulgaris Transcriptome after rhizobial and mycorrhizal fungi inoculation', 'Project_Description': 'Phaseolus vulgaris transcriptome reprogramming by modulating the expression of the NADPH oxidase gene RbohB after rhizobial and mycorrhizal fungi inoculation', 'Keyword': '', 'Relevance_Agricultural': '', 'Relevance_Medical': '', 'Relevance_Industrial': '', 'Relevance_Environmental': '', 'Relevance_Evolution': '', 'Relevance_Model': '', 'Relevance_Other': '', 'Organism_Name': 'Phaseolus vulgaris', 'Organism_Strain': 'Rhizobium tropici and Rhizophagus irregularis', 'Organism_Label': '', 'Sequencing_Status': 'SRA/Trace', 'Submitter_Organization': 'Instituto de Biotecnologia, UNAM', 'Submitter_Organization_List': ['Instituto de Biotecnologia, UNAM'], 'Supergroup': 'Eukaryotes'}, attributes={'uid': '482464'})], 'DbBuild': 'Build251006-0715.1'}, attributes={'status': 'OK'})}\n"
     ]
    }
   ],
   "source": [
    "# Resumen del BioProject\n",
    "handle = Entrez.esummary(db=\"bioproject\", id=project_uid)\n",
    "proj_record = Entrez.read(handle)\n",
    "print(proj_record)\n",
    "handle.close()\n"
   ]
  },
  {
   "cell_type": "code",
   "execution_count": 5,
   "id": "e3e81afe",
   "metadata": {},
   "outputs": [
    {
     "name": "stdout",
     "output_type": "stream",
     "text": [
      "dict_keys(['TaxId', 'Project_Id', 'Project_Acc', 'Project_Type', 'Project_Data_Type', 'Sort_By_ProjectType', 'Sort_By_DataType', 'Sort_By_Organism', 'Project_Subtype', 'Project_Target_Scope', 'Project_Target_Material', 'Project_Target_Capture', 'Project_MethodType', 'Project_Method', 'Project_Objectives_List', 'Registration_Date', 'Project_Name', 'Project_Title', 'Project_Description', 'Keyword', 'Relevance_Agricultural', 'Relevance_Medical', 'Relevance_Industrial', 'Relevance_Environmental', 'Relevance_Evolution', 'Relevance_Model', 'Relevance_Other', 'Organism_Name', 'Organism_Strain', 'Organism_Label', 'Sequencing_Status', 'Submitter_Organization', 'Submitter_Organization_List', 'Supergroup'])\n",
      "\n",
      "=== Información del BioProject ===\n",
      "Acceso: PRJNA482464\n",
      "Título: Phaseolus vulgaris Transcriptome after rhizobial and mycorrhizal fungi inoculation\n",
      "Organismo: Phaseolus vulgaris\n",
      "Descripción: Phaseolus vulgaris transcriptome reprogramming by modulating the expression of the NADPH oxidase gene RbohB after rhizobial and mycorrhizal fungi inoculation\n"
     ]
    }
   ],
   "source": [
    "# Seleccionando la información relacionada al proyecto\n",
    "proj = proj_record[\"DocumentSummarySet\"][\"DocumentSummary\"][0]\n",
    "\n",
    "# Mostrando todos los campos del diccionario\n",
    "print(proj.keys())\n",
    "\n",
    "# Accediendo a algunos campos\n",
    "print(\"\\n=== Información del BioProject ===\")\n",
    "print(\"Acceso:\", proj[\"Project_Acc\"])\n",
    "print(\"Título:\", proj[\"Project_Title\"])\n",
    "print(\"Organismo:\", proj[\"Organism_Name\"])\n",
    "print(\"Descripción:\", proj.get(\"Project_Description\"))"
   ]
  },
  {
   "cell_type": "code",
   "execution_count": 6,
   "id": "29449762",
   "metadata": {},
   "outputs": [
    {
     "name": "stdout",
     "output_type": "stream",
     "text": [
      "\n",
      "El proyecto PRJNA482464  NO tiene enlaces directos a GEO\n"
     ]
    }
   ],
   "source": [
    "# ===== Relacionando BioProject con GEO (GSE/GSM) ====\n",
    "# Revisar enlaces desde BioProject hacia GEO (GDS), con el uid del bioproject\n",
    "handle = Entrez.elink(dbfrom=\"bioproject\", db=\"gds\", id=project_uid)\n",
    "linksBioProj = Entrez.read(handle)\n",
    "handle.close()\n",
    "\n",
    "#print(linksBioProj)\n",
    "\n",
    "if linksBioProj[0][\"LinkSetDb\"]:\n",
    "    geo_ids = [link[\"Id\"] for link in linksBioProj[0][\"LinkSetDb\"][0][\"Link\"]]\n",
    "    print(\"\\nEl proyecto\", project_acc, \" está asociado a la base de datos de GEO\")\n",
    "    print(\"UIDs GEO asociados:\", geo_ids[:5], \"... total:\", len(geo_ids))\n",
    "else:\n",
    "    print(\"\\nEl proyecto\", project_acc, \" NO tiene enlaces directos a GEO\")"
   ]
  },
  {
   "cell_type": "code",
   "execution_count": 7,
   "id": "cd7b5b56",
   "metadata": {},
   "outputs": [
    {
     "name": "stdout",
     "output_type": "stream",
     "text": [
      "\n",
      "El proyecto PRJNA482464 está asociado a la base de datos de SRA\n",
      "UIDs SRA asociados: ['6163728', '6163727', '6163726', '6163347', '6163346', '6163345', '6163343', '6163342', '6163341', '6163339', '6163338', '6163337', '6163333', '6163332', '6163331', '6161033', '6161032', '6161031'] ... total: 18\n"
     ]
    }
   ],
   "source": [
    "# ====== Relacionando BioProject con SRA (SRR) ====\n",
    "# Revisar enlaces desde Bioproject hacia SRA (sra), con el uid del bioproject\n",
    "handle = Entrez.elink(dbfrom=\"bioproject\", db=\"sra\", id=project_uid)  # ← cambio clave: es elink\n",
    "linksBioProj_sra = Entrez.read(handle)\n",
    "handle.close()\n",
    "\n",
    "# print(linksBioProj_sra)\n",
    "if linksBioProj_sra and linksBioProj_sra[0].get(\"LinkSetDb\") and linksBioProj_sra[0][\"LinkSetDb\"]:\n",
    "    sra_ids = [link[\"Id\"] for link in linksBioProj_sra[0][\"LinkSetDb\"][0][\"Link\"]]\n",
    "    print(\"\\nEl proyecto\", project_acc, \"está asociado a la base de datos de SRA\")\n",
    "    print(\"UIDs SRA asociados:\", sra_ids[:len(sra_ids)], \"... total:\", len(sra_ids))\n",
    "else:\n",
    "    print(\"\\nEl proyecto\", project_acc, \"NO tiene enlaces directos a SRA\")"
   ]
  },
  {
   "cell_type": "code",
   "execution_count": 8,
   "id": "4099f848",
   "metadata": {},
   "outputs": [
    {
     "name": "stdout",
     "output_type": "stream",
     "text": [
      "\n",
      "==============================================\n",
      "Identificadores SRR obtenidos:\n",
      "['SRR7693916', 'SRR7693917', 'SRR7693915', 'SRR7696192', 'SRR7696193', 'SRR7696194', 'SRR7696202', 'SRR7696201', 'SRR7696200', 'SRR7696205', 'SRR7696206', 'SRR7696204', 'SRR7696210', 'SRR7696208', 'SRR7696209', 'SRR7696591', 'SRR7696590', 'SRR7696589'] ... total: 18\n",
      "El primer SRR es: SRR7693916\n",
      "==============================================\n"
     ]
    }
   ],
   "source": [
    "if sra_ids:\n",
    "    # Convertir la lista de UIDs en una cadena separada por comas, como espera Entrez\n",
    "    sra_id_list = \",\".join(sra_ids)\n",
    "\n",
    "    handle_fetch = Entrez.efetch(db=\"sra\", id=sra_id_list, rettype=\"runinfo\", retmode=\"text\")\n",
    "    run_info_text = handle_fetch.read().decode('utf-8') # Decode the bytes object to a string\n",
    "    handle_fetch.close()\n",
    "\n",
    "    # Ahora procesamos la información para extraer los SRR\n",
    "    # El archivo runinfo tiene el formato CSV/TSV, donde la primera columna es el SRR\n",
    "    srr_list = []\n",
    "\n",
    "    # saltamos la primera línea (encabezados)\n",
    "    for line in run_info_text.splitlines()[1:]:\n",
    "        # La primera columna (antes de la primera coma) es el SRR\n",
    "        srr_accession = line.split(\",\")[0]\n",
    "        srr_list.append(srr_accession)\n",
    "\n",
    "    print(\"\\n==============================================\")\n",
    "    print(\"Identificadores SRR obtenidos:\")\n",
    "    print(srr_list[:len(sra_ids)], \"... total:\", len(srr_list))\n",
    "    print(\"El primer SRR es:\", srr_list[0]) # Ej: SRR8904481\n",
    "    print(\"==============================================\")"
   ]
  },
  {
   "cell_type": "code",
   "execution_count": 9,
   "id": "5472d238",
   "metadata": {},
   "outputs": [
    {
     "name": "stdout",
     "output_type": "stream",
     "text": [
      "\n",
      "--- Verificación del Layout de Secuenciación ---\n",
      "Library Layout detectado: **PAIRED**\n",
      "--> Conclusión: ¡Los datos son de LECTURAS APAREADAS (PAIRED-END)!\n",
      "    El script de conversión en Bash DEBE buscar y comprimir archivos **_1.fastq** y **_2.fastq**.\n",
      "-------------------------------------------------\n"
     ]
    }
   ],
   "source": [
    "# 1. Separar el texto en líneas para acceder a los encabezados\n",
    "lines = run_info_text.splitlines()\n",
    "\n",
    "if len(lines) > 1:\n",
    "    # Obtener encabezados (primera línea)\n",
    "    headers = lines[0].split(',') \n",
    "    \n",
    "    # 2. Buscar el índice de la columna 'LibraryLayout'\n",
    "    try:\n",
    "        layout_index = headers.index(\"LibraryLayout\")\n",
    "    except ValueError:\n",
    "        layout_index = -1\n",
    "        print(\"\\nAdvertencia: No se encontró la columna 'LibraryLayout' en los metadatos.\")\n",
    "\n",
    "    # 3. Obtener el layout del primer registro de datos (segunda línea)\n",
    "    library_layout = \"Desconocido\"\n",
    "\n",
    "    if layout_index != -1:\n",
    "        # La segunda línea (índice 1) contiene el primer registro de datos\n",
    "        first_data_fields = lines[1].split(\",\")\n",
    "        library_layout = first_data_fields[layout_index]\n",
    "\n",
    "        print(\"\\n--- Verificación del Layout de Secuenciación ---\")\n",
    "        print(f\"Library Layout detectado: **{library_layout}**\")\n",
    "\n",
    "        if \"PAIRED\" in library_layout.upper():\n",
    "            print(\"--> Conclusión: ¡Los datos son de LECTURAS APAREADAS (PAIRED-END)!\")\n",
    "            print(\"    El script de conversión en Bash DEBE buscar y comprimir archivos **_1.fastq** y **_2.fastq**.\")\n",
    "        elif \"SINGLE\" in library_layout.upper():\n",
    "            print(\"--> Conclusión: Los datos son de LECTURA SIMPLE (SINGLE-END).\")\n",
    "            print(\"    El script de Bash solo encontrará y comprimirá el archivo **_1.fastq**.\")\n",
    "        else:\n",
    "            print(\"--> Advertencia: El layout no es estándar. Usaremos el script más robusto (que verifica la existencia de _2).\")\n",
    "        print(\"-------------------------------------------------\")\n",
    "    "
   ]
  },
  {
   "cell_type": "code",
   "execution_count": 10,
   "id": "41311734",
   "metadata": {},
   "outputs": [
    {
     "name": "stdout",
     "output_type": "stream",
     "text": [
      "Archivo generado: 'srr_ids.txt' con 18 códigos SRR.\n",
      "Ahora puedes usar este archivo para descargar en la terminal.\n"
     ]
    }
   ],
   "source": [
    "# Define el nombre que tendrá el archivo de texto\n",
    "output_filename = \"srr_ids.txt\"\n",
    "\n",
    "# Asegúrate de que tu srr_list ya se ha generado correctamente\n",
    "# Ejemplo (solo para referencia): srr_list = [\"SRR1234567\", \"SRR7654321\", \"SRR8888888\"]\n",
    "\n",
    "# Abrimos el archivo en modo escritura ('w')\n",
    "with open(output_filename, 'w') as f:\n",
    "    # Escribimos cada código SRR en una nueva línea\n",
    "    for srr in srr_list:\n",
    "        f.write(srr + '\\n')\n",
    "\n",
    "# Confirmación de que el archivo se ha creado\n",
    "print(f\"Archivo generado: '{output_filename}' con {len(srr_list)} códigos SRR.\")\n",
    "print(\"Ahora puedes usar este archivo para descargar en la terminal.\")"
   ]
  },
  {
   "cell_type": "markdown",
   "id": "089743f4",
   "metadata": {},
   "source": [
    "\n",
    "PARADOS EN SRC  # ---- CODIGO PARA BASH\n",
    "\n",
    "OUTPUT_DIR=\"../data/raw/\"\n",
    "mkdir -p \"$OUTPUT_DIR\"\n",
    "\n",
    "while read srr; do\n",
    "    echo \"Descargando: $srr...\"\n",
    "    prefetch --max-size u --output-directory \"$OUTPUT_DIR\" \"$srr\"\n",
    "done < srr_ids.txt\n",
    "\n",
    "para  verificar que todo se instalo : find ../data/raw -name \"*.sra\" | wc -l"
   ]
  },
  {
   "cell_type": "code",
   "execution_count": 15,
   "id": "9394874e",
   "metadata": {},
   "outputs": [
    {
     "name": "stdout",
     "output_type": "stream",
     "text": [
      "UIDs de ensamblaje encontrados: ['29544511', '29284811', '28969501', '23088951', '23088921', '23088791', '23088741', '22439661', '16290251', '9059211', '9059191', '8660681', '628671', '82691']\n"
     ]
    }
   ],
   "source": [
    "# ==== Descarga del genoma de referencia =====\n",
    "# Asignando el organismo\n",
    "organism = \"Phaseolus vulgaris\"\n",
    "\n",
    "# Consultando la base de datos assembly\n",
    "handle = Entrez.esearch(db=\"assembly\", term=organism, retmax=150)\n",
    "search_results = Entrez.read(handle)\n",
    "handle.close()\n",
    "\n",
    "# Imprimiendo los IDs\n",
    "assembly_uids = search_results[\"IdList\"]\n",
    "print(\"UIDs de ensamblaje encontrados:\", assembly_uids)"
   ]
  },
  {
   "cell_type": "code",
   "execution_count": 16,
   "id": "b2a664d0",
   "metadata": {},
   "outputs": [],
   "source": [
    "# Para cada UID obtener la información\n",
    "assembly_data = []\n",
    "\n",
    "for uid in assembly_uids:\n",
    "    handle = Entrez.esummary(db=\"assembly\", id=uid)\n",
    "    summary = Entrez.read(handle)\n",
    "    handle.close()\n",
    "    \n",
    "    docsum = summary['DocumentSummarySet']['DocumentSummary'][0]\n",
    "    \n",
    "    # Guardamos todo el diccionario\n",
    "    assembly_data.append(docsum)"
   ]
  },
  {
   "cell_type": "code",
   "execution_count": 17,
   "id": "5c269175",
   "metadata": {},
   "outputs": [
    {
     "data": {
      "text/plain": [
       "'Columnas disponibles:'"
      ]
     },
     "metadata": {},
     "output_type": "display_data"
    },
    {
     "data": {
      "text/plain": [
       "['RsUid',\n",
       " 'GbUid',\n",
       " 'AssemblyAccession',\n",
       " 'LastMajorReleaseAccession',\n",
       " 'LatestAccession',\n",
       " 'ChainId',\n",
       " 'AssemblyName',\n",
       " 'UCSCName',\n",
       " 'EnsemblName',\n",
       " 'Taxid',\n",
       " 'Organism',\n",
       " 'SpeciesTaxid',\n",
       " 'SpeciesName',\n",
       " 'AssemblyType',\n",
       " 'AssemblyStatus',\n",
       " 'AssemblyStatusSort',\n",
       " 'WGS',\n",
       " 'GB_BioProjects',\n",
       " 'GB_Projects',\n",
       " 'RS_BioProjects',\n",
       " 'RS_Projects',\n",
       " 'BioSampleAccn',\n",
       " 'BioSampleId',\n",
       " 'Biosource',\n",
       " 'Coverage',\n",
       " 'PartialGenomeRepresentation',\n",
       " 'Primary',\n",
       " 'AssemblyDescription',\n",
       " 'ReleaseLevel',\n",
       " 'ReleaseType',\n",
       " 'AsmReleaseDate_GenBank',\n",
       " 'AsmReleaseDate_RefSeq',\n",
       " 'SeqReleaseDate',\n",
       " 'AsmUpdateDate',\n",
       " 'SubmissionDate',\n",
       " 'LastUpdateDate',\n",
       " 'SubmitterOrganization',\n",
       " 'RefSeq_category',\n",
       " 'AnomalousList',\n",
       " 'ExclFromRefSeq',\n",
       " 'PropertyList',\n",
       " 'FromType',\n",
       " 'Synonym',\n",
       " 'ContigN50',\n",
       " 'ScaffoldN50',\n",
       " 'AnnotRptUrl',\n",
       " 'FtpPath_GenBank',\n",
       " 'FtpPath_RefSeq',\n",
       " 'FtpPath_Assembly_rpt',\n",
       " 'FtpPath_Stats_rpt',\n",
       " 'FtpPath_Regions_rpt',\n",
       " 'Busco',\n",
       " 'SortOrder',\n",
       " 'Meta']"
      ]
     },
     "metadata": {},
     "output_type": "display_data"
    }
   ],
   "source": [
    "# Crear DataFrame con toda la información\n",
    "df_assembly = pd.DataFrame(assembly_data)\n",
    "\n",
    "# Mostrar todas las columnas disponibles\n",
    "display(\"Columnas disponibles:\", df_assembly.columns.tolist())"
   ]
  },
  {
   "cell_type": "code",
   "execution_count": 18,
   "id": "f83a28d1",
   "metadata": {},
   "outputs": [
    {
     "name": "stdout",
     "output_type": "stream",
     "text": [
      "Mostrando los primeros 10 renglones del dataframe\n"
     ]
    },
    {
     "data": {
      "text/html": [
       "<div>\n",
       "<style scoped>\n",
       "    .dataframe tbody tr th:only-of-type {\n",
       "        vertical-align: middle;\n",
       "    }\n",
       "\n",
       "    .dataframe tbody tr th {\n",
       "        vertical-align: top;\n",
       "    }\n",
       "\n",
       "    .dataframe thead th {\n",
       "        text-align: right;\n",
       "    }\n",
       "</style>\n",
       "<table border=\"1\" class=\"dataframe\">\n",
       "  <thead>\n",
       "    <tr style=\"text-align: right;\">\n",
       "      <th></th>\n",
       "      <th>Organism</th>\n",
       "      <th>AssemblyName</th>\n",
       "      <th>AssemblyStatus</th>\n",
       "      <th>AssemblyAccession</th>\n",
       "      <th>RefSeq_category</th>\n",
       "      <th>FtpPath_GenBank</th>\n",
       "    </tr>\n",
       "  </thead>\n",
       "  <tbody>\n",
       "    <tr>\n",
       "      <th>0</th>\n",
       "      <td>Phaseolus vulgaris (common bean)</td>\n",
       "      <td>CIAT_INB841_v1.0</td>\n",
       "      <td>Chromosome</td>\n",
       "      <td>GCA_051991295.1</td>\n",
       "      <td>na</td>\n",
       "      <td>ftp://ftp.ncbi.nlm.nih.gov/genomes/all/GCA/051...</td>\n",
       "    </tr>\n",
       "    <tr>\n",
       "      <th>1</th>\n",
       "      <td>Phaseolus vulgaris (common bean)</td>\n",
       "      <td>ASM5162235v1</td>\n",
       "      <td>Complete Genome</td>\n",
       "      <td>GCA_051622355.1</td>\n",
       "      <td>na</td>\n",
       "      <td>ftp://ftp.ncbi.nlm.nih.gov/genomes/all/GCA/051...</td>\n",
       "    </tr>\n",
       "    <tr>\n",
       "      <th>2</th>\n",
       "      <td>Phaseolus vulgaris (common bean)</td>\n",
       "      <td>ASM5104807v1</td>\n",
       "      <td>Chromosome</td>\n",
       "      <td>GCA_051048075.1</td>\n",
       "      <td>na</td>\n",
       "      <td>ftp://ftp.ncbi.nlm.nih.gov/genomes/all/GCA/051...</td>\n",
       "    </tr>\n",
       "    <tr>\n",
       "      <th>3</th>\n",
       "      <td>Phaseolus vulgaris (common bean)</td>\n",
       "      <td>G12873</td>\n",
       "      <td>Contig</td>\n",
       "      <td>GCA_040616375.1</td>\n",
       "      <td>na</td>\n",
       "      <td>ftp://ftp.ncbi.nlm.nih.gov/genomes/all/GCA/040...</td>\n",
       "    </tr>\n",
       "    <tr>\n",
       "      <th>4</th>\n",
       "      <td>Phaseolus vulgaris (common bean)</td>\n",
       "      <td>BAT93</td>\n",
       "      <td>Contig</td>\n",
       "      <td>GCA_040616515.1</td>\n",
       "      <td>na</td>\n",
       "      <td>ftp://ftp.ncbi.nlm.nih.gov/genomes/all/GCA/040...</td>\n",
       "    </tr>\n",
       "    <tr>\n",
       "      <th>5</th>\n",
       "      <td>Phaseolus vulgaris (common bean)</td>\n",
       "      <td>JaloEPP558</td>\n",
       "      <td>Contig</td>\n",
       "      <td>GCA_040616365.1</td>\n",
       "      <td>na</td>\n",
       "      <td>ftp://ftp.ncbi.nlm.nih.gov/genomes/all/GCA/040...</td>\n",
       "    </tr>\n",
       "    <tr>\n",
       "      <th>6</th>\n",
       "      <td>Phaseolus vulgaris (common bean)</td>\n",
       "      <td>MIDAS</td>\n",
       "      <td>Contig</td>\n",
       "      <td>GCA_040616355.1</td>\n",
       "      <td>na</td>\n",
       "      <td>ftp://ftp.ncbi.nlm.nih.gov/genomes/all/GCA/040...</td>\n",
       "    </tr>\n",
       "    <tr>\n",
       "      <th>7</th>\n",
       "      <td>Phaseolus vulgaris (common bean)</td>\n",
       "      <td>P. vulgaris v2.0</td>\n",
       "      <td>Chromosome</td>\n",
       "      <td>GCF_000499845.2</td>\n",
       "      <td>reference genome</td>\n",
       "      <td>ftp://ftp.ncbi.nlm.nih.gov/genomes/all/GCA/000...</td>\n",
       "    </tr>\n",
       "    <tr>\n",
       "      <th>8</th>\n",
       "      <td>Phaseolus vulgaris (common bean)</td>\n",
       "      <td>ASM2944876v1</td>\n",
       "      <td>Chromosome</td>\n",
       "      <td>GCA_029448765.1</td>\n",
       "      <td>na</td>\n",
       "      <td>ftp://ftp.ncbi.nlm.nih.gov/genomes/all/GCA/029...</td>\n",
       "    </tr>\n",
       "    <tr>\n",
       "      <th>9</th>\n",
       "      <td>Phaseolus vulgaris (common bean)</td>\n",
       "      <td>ASM1650975v1</td>\n",
       "      <td>Scaffold</td>\n",
       "      <td>GCA_016509755.1</td>\n",
       "      <td>na</td>\n",
       "      <td>ftp://ftp.ncbi.nlm.nih.gov/genomes/all/GCA/016...</td>\n",
       "    </tr>\n",
       "  </tbody>\n",
       "</table>\n",
       "</div>"
      ],
      "text/plain": [
       "                           Organism      AssemblyName   AssemblyStatus  \\\n",
       "0  Phaseolus vulgaris (common bean)  CIAT_INB841_v1.0       Chromosome   \n",
       "1  Phaseolus vulgaris (common bean)      ASM5162235v1  Complete Genome   \n",
       "2  Phaseolus vulgaris (common bean)      ASM5104807v1       Chromosome   \n",
       "3  Phaseolus vulgaris (common bean)            G12873           Contig   \n",
       "4  Phaseolus vulgaris (common bean)             BAT93           Contig   \n",
       "5  Phaseolus vulgaris (common bean)        JaloEPP558           Contig   \n",
       "6  Phaseolus vulgaris (common bean)             MIDAS           Contig   \n",
       "7  Phaseolus vulgaris (common bean)  P. vulgaris v2.0       Chromosome   \n",
       "8  Phaseolus vulgaris (common bean)      ASM2944876v1       Chromosome   \n",
       "9  Phaseolus vulgaris (common bean)      ASM1650975v1         Scaffold   \n",
       "\n",
       "  AssemblyAccession   RefSeq_category  \\\n",
       "0   GCA_051991295.1                na   \n",
       "1   GCA_051622355.1                na   \n",
       "2   GCA_051048075.1                na   \n",
       "3   GCA_040616375.1                na   \n",
       "4   GCA_040616515.1                na   \n",
       "5   GCA_040616365.1                na   \n",
       "6   GCA_040616355.1                na   \n",
       "7   GCF_000499845.2  reference genome   \n",
       "8   GCA_029448765.1                na   \n",
       "9   GCA_016509755.1                na   \n",
       "\n",
       "                                     FtpPath_GenBank  \n",
       "0  ftp://ftp.ncbi.nlm.nih.gov/genomes/all/GCA/051...  \n",
       "1  ftp://ftp.ncbi.nlm.nih.gov/genomes/all/GCA/051...  \n",
       "2  ftp://ftp.ncbi.nlm.nih.gov/genomes/all/GCA/051...  \n",
       "3  ftp://ftp.ncbi.nlm.nih.gov/genomes/all/GCA/040...  \n",
       "4  ftp://ftp.ncbi.nlm.nih.gov/genomes/all/GCA/040...  \n",
       "5  ftp://ftp.ncbi.nlm.nih.gov/genomes/all/GCA/040...  \n",
       "6  ftp://ftp.ncbi.nlm.nih.gov/genomes/all/GCA/040...  \n",
       "7  ftp://ftp.ncbi.nlm.nih.gov/genomes/all/GCA/000...  \n",
       "8  ftp://ftp.ncbi.nlm.nih.gov/genomes/all/GCA/029...  \n",
       "9  ftp://ftp.ncbi.nlm.nih.gov/genomes/all/GCA/016...  "
      ]
     },
     "metadata": {},
     "output_type": "display_data"
    },
    {
     "name": "stdout",
     "output_type": "stream",
     "text": [
      "Mostrando los genomas que tienen referencia\n"
     ]
    },
    {
     "data": {
      "text/html": [
       "<div>\n",
       "<style scoped>\n",
       "    .dataframe tbody tr th:only-of-type {\n",
       "        vertical-align: middle;\n",
       "    }\n",
       "\n",
       "    .dataframe tbody tr th {\n",
       "        vertical-align: top;\n",
       "    }\n",
       "\n",
       "    .dataframe thead th {\n",
       "        text-align: right;\n",
       "    }\n",
       "</style>\n",
       "<table border=\"1\" class=\"dataframe\">\n",
       "  <thead>\n",
       "    <tr style=\"text-align: right;\">\n",
       "      <th></th>\n",
       "      <th>Organism</th>\n",
       "      <th>AssemblyName</th>\n",
       "      <th>AssemblyStatus</th>\n",
       "      <th>AssemblyAccession</th>\n",
       "      <th>RefSeq_category</th>\n",
       "      <th>FtpPath_GenBank</th>\n",
       "    </tr>\n",
       "  </thead>\n",
       "  <tbody>\n",
       "    <tr>\n",
       "      <th>7</th>\n",
       "      <td>Phaseolus vulgaris (common bean)</td>\n",
       "      <td>P. vulgaris v2.0</td>\n",
       "      <td>Chromosome</td>\n",
       "      <td>GCF_000499845.2</td>\n",
       "      <td>reference genome</td>\n",
       "      <td>ftp://ftp.ncbi.nlm.nih.gov/genomes/all/GCA/000...</td>\n",
       "    </tr>\n",
       "  </tbody>\n",
       "</table>\n",
       "</div>"
      ],
      "text/plain": [
       "                           Organism      AssemblyName AssemblyStatus  \\\n",
       "7  Phaseolus vulgaris (common bean)  P. vulgaris v2.0     Chromosome   \n",
       "\n",
       "  AssemblyAccession   RefSeq_category  \\\n",
       "7   GCF_000499845.2  reference genome   \n",
       "\n",
       "                                     FtpPath_GenBank  \n",
       "7  ftp://ftp.ncbi.nlm.nih.gov/genomes/all/GCA/000...  "
      ]
     },
     "metadata": {},
     "output_type": "display_data"
    }
   ],
   "source": [
    "# Seleccionar solo algunas columnas de interés\n",
    "df_selected = df_assembly[[\n",
    "    \"Organism\",\n",
    "    \"AssemblyName\",\n",
    "    \"AssemblyStatus\",\n",
    "    \"AssemblyAccession\",\n",
    "    \"RefSeq_category\",\n",
    "    \"FtpPath_GenBank\"\n",
    "]]\n",
    "\n",
    "print(\"Mostrando los primeros 10 renglones del dataframe\")\n",
    "display(df_selected[0:10])\n",
    "\n",
    "\n",
    "# Filtrar filas que coincidan exactamente con el accession\n",
    "df_filtered = df_selected[df_selected[\"RefSeq_category\"] != \"na\"]\n",
    "\n",
    "# Mostrar resultado\n",
    "print(\"Mostrando los genomas que tienen referencia\")\n",
    "display(df_filtered)"
   ]
  },
  {
   "cell_type": "code",
   "execution_count": 19,
   "id": "bf8a5354",
   "metadata": {},
   "outputs": [
    {
     "name": "stdout",
     "output_type": "stream",
     "text": [
      "\n",
      "--- DETALLES DEL GENOMA SELECCIONADO ---\n",
      "Organismo: Phaseolus vulgaris (common bean)\n",
      "Nombre del genoma: P. vulgaris v2.0\n",
      "Estado del genoma: Chromosome\n",
      "Accession del genoma: GCF_000499845.2\n",
      "URL de descarga: ftp://ftp.ncbi.nlm.nih.gov/genomes/all/GCA/000/499/845/GCA_000499845.2_P._vulgaris_v2.0\n",
      "Servidor FTP: ftp.ncbi.nlm.nih.gov\n",
      "Ruta en el servidor: /genomes/all/GCA/000/499/845/GCA_000499845.2_P._vulgaris_v2.0\n"
     ]
    },
    {
     "name": "stdout",
     "output_type": "stream",
     "text": [
      "Archivos disponibles:\n",
      "annotation_hashes.txt\n",
      "GCA_000499845.2_P._vulgaris_v2.0_assembly_structure\n",
      "README.txt\n",
      "GCA_000499845.2_P._vulgaris_v2.0_assembly_report.txt\n",
      "GCA_000499845.2_P._vulgaris_v2.0_assembly_stats.txt\n",
      "GCA_000499845.2_P._vulgaris_v2.0_cds_from_genomic.fna.gz\n",
      "GCA_000499845.2_P._vulgaris_v2.0_fcs_report.txt\n",
      "GCA_000499845.2_P._vulgaris_v2.0_feature_count.txt\n",
      "GCA_000499845.2_P._vulgaris_v2.0_feature_table.txt.gz\n",
      "GCA_000499845.2_P._vulgaris_v2.0_genomic.fna.gz\n",
      "GCA_000499845.2_P._vulgaris_v2.0_genomic.gbff.gz\n",
      "GCA_000499845.2_P._vulgaris_v2.0_genomic.gff.gz\n",
      "GCA_000499845.2_P._vulgaris_v2.0_genomic.gtf.gz\n",
      "GCA_000499845.2_P._vulgaris_v2.0_genomic_gaps.txt.gz\n",
      "GCA_000499845.2_P._vulgaris_v2.0_protein.faa.gz\n",
      "GCA_000499845.2_P._vulgaris_v2.0_protein.gpff.gz\n",
      "GCA_000499845.2_P._vulgaris_v2.0_rna_from_genomic.fna.gz\n",
      "GCA_000499845.2_P._vulgaris_v2.0_translated_cds.faa.gz\n",
      "GCA_000499845.2_P._vulgaris_v2.0_wgsmaster.gbff.gz\n",
      "md5checksums.txt\n",
      "assembly_status.txt\n",
      "uncompressed_checksums.txt\n"
     ]
    }
   ],
   "source": [
    "genoma_seleccionado = df_filtered.iloc[0]\n",
    "\n",
    "print(\"\\n--- DETALLES DEL GENOMA SELECCIONADO ---\")\n",
    "print(\"Organismo:\", genoma_seleccionado[\"Organism\"])\n",
    "print(\"Nombre del genoma:\", genoma_seleccionado[\"AssemblyName\"])\n",
    "print(\"Estado del genoma:\", genoma_seleccionado[\"AssemblyStatus\"])\n",
    "print(\"Accession del genoma:\", genoma_seleccionado[\"AssemblyAccession\"])\n",
    "print(\"URL de descarga:\", genoma_seleccionado[\"FtpPath_GenBank\"])\n",
    "\n",
    "# cargando las bibliotecas\n",
    "from ftplib import FTP\n",
    "from urllib.parse import urlparse\n",
    "\n",
    "# Seleccionando el path de ftp del genoma de referencia\n",
    "ftp_url = genoma_seleccionado[\"FtpPath_GenBank\"]\n",
    "\n",
    "# Obteniendo la información del url\n",
    "parsed = urlparse(ftp_url)\n",
    "\n",
    "# Asignando el hostname y el path\n",
    "ftp_server = parsed.hostname        # 'ftp.ncbi.nlm.nih.gov'\n",
    "ftp_path = parsed.path\n",
    "\n",
    "print(\"Servidor FTP:\", ftp_server)\n",
    "print(\"Ruta en el servidor:\", ftp_path)\n",
    "\n",
    "# Haciendo la conexión al servidor de forma anónima y moviendose al path del genoma\n",
    "ftp = FTP(ftp_server)\n",
    "ftp.login()  # conexión anónima\n",
    "ftp.cwd(ftp_path)\n",
    "\n",
    "# Obteniendo la lista de archivos contenidos en el path\n",
    "files = ftp.nlst()  # lista de archivos en el directorio\n",
    "\n",
    "# Cerrando la conexión ftp\n",
    "ftp.quit()\n",
    "\n",
    "# Imprimiendo la lista de archivos\n",
    "print(\"Archivos disponibles:\")\n",
    "for f in files:\n",
    "    print(f)"
   ]
  },
  {
   "cell_type": "code",
   "execution_count": 20,
   "id": "67e49f2f",
   "metadata": {},
   "outputs": [
    {
     "name": "stdout",
     "output_type": "stream",
     "text": [
      "Archivos FASTA disponibles: ['GCA_000499845.2_P._vulgaris_v2.0_cds_from_genomic.fna.gz', 'GCA_000499845.2_P._vulgaris_v2.0_genomic.fna.gz', 'GCA_000499845.2_P._vulgaris_v2.0_rna_from_genomic.fna.gz']\n",
      "Archivos GFF disponibles: ['GCA_000499845.2_P._vulgaris_v2.0_genomic.gff.gz']\n"
     ]
    }
   ],
   "source": [
    "# Obtener archivos FASTA y GFF\n",
    "fasta_files = [f for f in files if f.endswith(\"_genomic.fna.gz\")]\n",
    "gff_files = [f for f in files if f.endswith(\"_genomic.gff.gz\")]\n",
    "\n",
    "print(\"Archivos FASTA disponibles:\", fasta_files)\n",
    "print(\"Archivos GFF disponibles:\", gff_files)\n"
   ]
  },
  {
   "cell_type": "code",
   "execution_count": 21,
   "id": "994a685a",
   "metadata": {},
   "outputs": [
    {
     "name": "stdout",
     "output_type": "stream",
     "text": [
      "FASTA: ftp://ftp.ncbi.nlm.nih.gov/genomes/all/GCA/000/499/845/GCA_000499845.2_P._vulgaris_v2.0/GCA_000499845.2_P._vulgaris_v2.0_cds_from_genomic.fna.gz\n",
      "Genoma descargado en: /export/space3/users/darapc/biopythonCLASS/RbohB-DE/data/reference/GCA_000499845.2_P._vulgaris_v2.0_cds_from_genomic.fna.gz\n",
      "GFF: ftp://ftp.ncbi.nlm.nih.gov/genomes/all/GCA/000/499/845/GCA_000499845.2_P._vulgaris_v2.0/GCA_000499845.2_P._vulgaris_v2.0_genomic.gff.gz\n",
      "Archivo GFF descargado en: /export/space3/users/darapc/biopythonCLASS/RbohB-DE/data/reference/GCA_000499845.2_P._vulgaris_v2.0_genomic.gff.gz\n"
     ]
    }
   ],
   "source": [
    "import urllib.request\n",
    "import os\n",
    "\n",
    "if fasta_files or gff_files:\n",
    "    # Carpeta donde guardaremos\n",
    "    out_dir = \"/export/space3/users/darapc/biopythonCLASS/RbohB-DE/data/reference\"\n",
    "    os.makedirs(out_dir, exist_ok=True)\n",
    "    # Descarga de archivo FASTA\n",
    "    if fasta_files:\n",
    "        # Obtener el nombre base del ensamblaje (ej. GCA_000001215.4_Drosophila_melanogaster...)\n",
    "        fasta_url = ftp_url + \"/\" + fasta_files[0]\n",
    "        print(\"FASTA:\", fasta_url)\n",
    "        # Archivo de salida\n",
    "        fasta_out = os.path.join(out_dir, fasta_files[0])\n",
    "        # Descargar FASTA\n",
    "        urllib.request.urlretrieve(fasta_url, fasta_out)\n",
    "        print(\"Genoma descargado en:\", fasta_out)\n",
    "    # Descarga de archivo GFF    \n",
    "    if gff_files:\n",
    "        gff_url = ftp_url + \"/\" + gff_files[0]\n",
    "        print(\"GFF:\", gff_url)\n",
    "        # Archivo de salida\n",
    "        gff_out = os.path.join(out_dir,gff_files[0])\n",
    "        # 4. Descargamos el GFF\n",
    "        urllib.request.urlretrieve(gff_url, gff_out)\n",
    "        print(\"Archivo GFF descargado en:\", gff_out)"
   ]
  }
 ],
 "metadata": {
  "kernelspec": {
   "display_name": "base",
   "language": "python",
   "name": "python3"
  },
  "language_info": {
   "codemirror_mode": {
    "name": "ipython",
    "version": 3
   },
   "file_extension": ".py",
   "mimetype": "text/x-python",
   "name": "python",
   "nbconvert_exporter": "python",
   "pygments_lexer": "ipython3",
   "version": "3.10.18"
  }
 },
 "nbformat": 4,
 "nbformat_minor": 5
}
